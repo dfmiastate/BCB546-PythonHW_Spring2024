{
 "cells": [
  {
   "cell_type": "markdown",
   "id": "4ff8fb36",
   "metadata": {},
   "source": [
    "# Python Assignment"
   ]
  },
  {
   "cell_type": "markdown",
   "id": "1fb60c28",
   "metadata": {},
   "source": [
    "## 1 ##"
   ]
  },
  {
   "cell_type": "code",
   "execution_count": 1,
   "id": "92c3823f",
   "metadata": {},
   "outputs": [],
   "source": [
    "from Bio import SeqIO\n",
    "from Bio.Data import CodonTable\n",
    "import pandas as pd"
   ]
  },
  {
   "cell_type": "code",
   "execution_count": 2,
   "id": "070d6c90",
   "metadata": {},
   "outputs": [],
   "source": [
    "def get_sequences_from_file(fasta_fn):\n",
    "    \"\"\"Description: this grabs the sequences from files\n",
    "\n",
    "## Arguments:\n",
    "\n",
    "- a: for record found in the file named SeqIO.parse which is a fasta file\n",
    "- b: description is record.description.split\n",
    "- c: species name is subset description 1 + the item in quotes + subset description 2\n",
    "- d: sequence_data_dict with subset species name is the recorded sequence\n",
    "\n",
    "Return: sequences from files as a file named sequence_data_dict\n",
    "\n",
    "Output: sequence data dictionary\n",
    "\n",
    "    Example of usage:\n",
    "       >>> get_sequences_from_file(fasta_file)\n",
    "       \n",
    "       Output: sequence_data_dict\n",
    "    \n",
    "    \"\"\"\n",
    "    sequence_data_dict = {}\n",
    "    for record in SeqIO.parse(fasta_fn, \"fasta\"):\n",
    "        description = record.description.split()\n",
    "        species_name = description[1] + \" \" + description[2]\n",
    "        sequence_data_dict[species_name] = record.seq\n",
    "    return(sequence_data_dict)"
   ]
  },
  {
   "cell_type": "code",
   "execution_count": 3,
   "id": "b8fa6b91",
   "metadata": {},
   "outputs": [],
   "source": [
    "def get_sequences_from_file(fasta_fn):\n",
    "    sequence_data_dict = {}\n",
    "    for record in SeqIO.parse(fasta_fn, \"fasta\"):\n",
    "        description = record.description.split()\n",
    "        species_name = description[1] + \" \" + description[2]\n",
    "        sequence_data_dict[species_name] = record.seq\n",
    "    return(sequence_data_dict)"
   ]
  },
  {
   "cell_type": "markdown",
   "id": "a2fdb3d9",
   "metadata": {},
   "source": [
    "# 2"
   ]
  },
  {
   "cell_type": "code",
   "execution_count": 63,
   "id": "100d7777",
   "metadata": {},
   "outputs": [],
   "source": [
    "## 2 ##\n",
    "####### YOUR STRING-TRANSLATE FUNCTION ########\n",
    "## Write a function that translates sequences\n",
    "## All sequences start at codon position 1\n",
    "## Complete a function that translates using a loop over the string of nucleotides\n",
    "## Here is  some pseudo-code and suggestions\n",
    "## feel free to change the function and variable names\n",
    "# def translate_function(string_nucleotides): \n",
    "#     mito_table = CodonTable.unambiguous_dna_by_name[\"Vertebrate Mitochondrial\"] # this should work using BioPython (be sure to check what this returns)\n",
    "#     for-loop through every 3rd position in string_nucleotides to get the codon using range subsets\n",
    "#         # IMPORTANT: if the sequence has a stop codon at the end, you should leave it off\n",
    "#         # this is how you can retrieve the amino acid: mito_table.forward_table[codon]\n",
    "#         add the aa to aa_seq_string\n",
    "#     return(aa_seq_string)\n",
    "\n",
    "def translate_function(string_nucleotides):\n",
    "    subsetSeq = \"\"\n",
    "    aa_seq_string = \"\"\n",
    "    mito_table = CodonTable.unambiguous_dna_by_name[\"Vertebrate Mitochondrial\"]\n",
    "    for charvar in string_nucleotides:\n",
    "        subsetSeq += charvar\n",
    "        if len(subsetSeq) == 3:\n",
    "            aa_seq_string += mito_table.forward_table.get(subsetSeq)\n",
    "            subsetSeq = \"\"\n",
    "    return aa_seq_string"
   ]
  },
  {
   "cell_type": "code",
   "execution_count": 7,
   "id": "19136382",
   "metadata": {},
   "outputs": [
    {
     "name": "stdout",
     "output_type": "stream",
     "text": [
      "Table 2 Vertebrate Mitochondrial, SGC1\n",
      "\n",
      "  |  T      |  C      |  A      |  G      |\n",
      "--+---------+---------+---------+---------+--\n",
      "T | TTT F   | TCT S   | TAT Y   | TGT C   | T\n",
      "T | TTC F   | TCC S   | TAC Y   | TGC C   | C\n",
      "T | TTA L   | TCA S   | TAA Stop| TGA W   | A\n",
      "T | TTG L   | TCG S   | TAG Stop| TGG W   | G\n",
      "--+---------+---------+---------+---------+--\n",
      "C | CTT L   | CCT P   | CAT H   | CGT R   | T\n",
      "C | CTC L   | CCC P   | CAC H   | CGC R   | C\n",
      "C | CTA L   | CCA P   | CAA Q   | CGA R   | A\n",
      "C | CTG L   | CCG P   | CAG Q   | CGG R   | G\n",
      "--+---------+---------+---------+---------+--\n",
      "A | ATT I(s)| ACT T   | AAT N   | AGT S   | T\n",
      "A | ATC I(s)| ACC T   | AAC N   | AGC S   | C\n",
      "A | ATA M(s)| ACA T   | AAA K   | AGA Stop| A\n",
      "A | ATG M(s)| ACG T   | AAG K   | AGG Stop| G\n",
      "--+---------+---------+---------+---------+--\n",
      "G | GTT V   | GCT A   | GAT D   | GGT G   | T\n",
      "G | GTC V   | GCC A   | GAC D   | GGC G   | C\n",
      "G | GTA V   | GCA A   | GAA E   | GGA G   | A\n",
      "G | GTG V(s)| GCG A   | GAG E   | GGG G   | G\n",
      "--+---------+---------+---------+---------+--\n"
     ]
    }
   ],
   "source": [
    "print(CodonTable.unambiguous_dna_by_name[\"Vertebrate Mitochondrial\"])"
   ]
  },
  {
   "cell_type": "markdown",
   "id": "3cf85ec5",
   "metadata": {},
   "source": [
    "## 3"
   ]
  },
  {
   "cell_type": "code",
   "execution_count": 9,
   "id": "e7f3b136",
   "metadata": {},
   "outputs": [],
   "source": [
    "## 3 ##\n",
    "####### YOUR ALTERNATIVE FUNCTION ########\n",
    "## Is there a better way to write the translation function? (Hint: yes there is.) \n",
    "## Perhaps using available BioPython library utilities?\n",
    "## Please also write this function.\n",
    "\n",
    "def translate_function2(string_nucleotides):\n",
    "    mito_table = CodonTable.unambiguous_dna_by_name[\"Vertebrate Mitochondrial\"]\n",
    "    coding_dna = Seq(string_nucleotides)\n",
    "    dna_translated = coding_dna.translate(table = mito_table)\n",
    "    return dna_translated\n"
   ]
  },
  {
   "cell_type": "markdown",
   "id": "82b61789",
   "metadata": {},
   "source": [
    "# 4"
   ]
  },
  {
   "cell_type": "code",
   "execution_count": 36,
   "id": "77208bf2",
   "metadata": {},
   "outputs": [],
   "source": [
    "## 4 ##\n",
    "####### YOUR COUNT AA ANALYSIS FUNCTION ########\n",
    "## Write a function that calculates the molecular weight of each amino acid sequence.\n",
    "## For this, you can use some BioPython functions. I think you can use the ProtParam module.\n",
    "## For more info, check this out: http://biopython.org/wiki/ProtParam\n",
    "## So you should import the following before defining your function:\n",
    "from Bio.SeqUtils.ProtParam import ProteinAnalysis\n",
    "# def compute_molecular_weight(aa_seq):\n",
    "#     # I think the ProtParam functions may require aa_seq to be a string.\n",
    "#     # It may not work if the amino acid sequence has stop codons.\n",
    "#     run the ProteinAnalysis() function on aa_seq\n",
    "#\t  return the molecular weight\n",
    "\n",
    "from Bio.SeqUtils.ProtParam import ProteinAnalysis\n",
    "def compute_molecular_weight(aa_seq):\n",
    "    Bio.SeqUtils.molecular_weight(aa_seq, seq_type='Protein', double_stranded=False, circular=False, monoisotopic=False)\n",
    "    return molecular_weight\n",
    "    print(molecular_weight)"
   ]
  },
  {
   "cell_type": "markdown",
   "id": "ef57e4d3",
   "metadata": {},
   "source": [
    "## 5"
   ]
  },
  {
   "cell_type": "code",
   "execution_count": 11,
   "id": "60757846",
   "metadata": {},
   "outputs": [],
   "source": [
    "## 5 ##\n",
    "####### YOUR GC CONTENT ANALYSIS FUNCTION ########\n",
    "## Write a function that calculates the GC-content (proportion of \"G\" and \"C\") of each DNA sequence and returns this value.\n",
    "\n",
    "def gc_percent(dna):\n",
    "    \"\"\"Description: Computes GC % for a given DNA string\n",
    "    \n",
    "    Arguments: \n",
    "       dna  :  DNA string\n",
    "    \n",
    "    Return: a float value \n",
    "    \n",
    "    Example of usage:\n",
    "       >>> gc = gc_percent(dna = \"AATCGACAATAGCCCATTGATACAT\")\n",
    "       >>> print(gc)\n",
    "       \n",
    "       Output:\n",
    "          0.56\n",
    "    \n",
    "    \"\"\"\n",
    "    count_G = dna.count('G')\n",
    "    count_C = dna.count('C')\n",
    "    dna_len = len(dna)\n",
    "    gc = ((count_G + count_C) / dna_len)\n",
    "    gc_pc = gc * 100\n",
    "    return(gc_pc)"
   ]
  },
  {
   "cell_type": "markdown",
   "id": "92b39758",
   "metadata": {},
   "source": [
    "## 6"
   ]
  },
  {
   "cell_type": "code",
   "execution_count": 12,
   "id": "ed1e1dec",
   "metadata": {},
   "outputs": [],
   "source": [
    "cytb_seqs = get_sequences_from_file(\"penguins_cytb.fasta\") \n",
    "\n",
    "penguins_df = pd.read_csv(\"penguins_mass.csv\") # Includes only data for body mass \n",
    "species_list = list(penguins_df.species)"
   ]
  },
  {
   "cell_type": "code",
   "execution_count": 13,
   "id": "1e974d59",
   "metadata": {},
   "outputs": [],
   "source": [
    "## 6 ## \n",
    "## Add two new columns to the penguin DataFrame: (1) molecular weight and (2) GC content.\n",
    "## Set the value to 'NaN' to indicate that these cells are currently empty.\n",
    "\n",
    "penguins_df['molecular weight'] = 'NaN'\n",
    "penguins_df['GC content'] = 'NaN'"
   ]
  },
  {
   "cell_type": "code",
   "execution_count": 14,
   "id": "fbf2eb6f",
   "metadata": {},
   "outputs": [
    {
     "name": "stdout",
     "output_type": "stream",
     "text": [
      "                    species   mass molecular weight GC content\n",
      "0      Aptenodytes forsteri  28.00              NaN        NaN\n",
      "1   Aptenodytes patagonicus  13.40              NaN        NaN\n",
      "2       Eudyptes chrysocome   2.80              NaN        NaN\n",
      "3     Eudyptes chrysolophus   4.50              NaN        NaN\n",
      "4         Eudyptes sclateri   4.25              NaN        NaN\n",
      "5           Eudyptula minor   1.60              NaN        NaN\n",
      "6        Pygoscelis adeliae   4.60              NaN        NaN\n",
      "7     Pygoscelis antarctica   4.10              NaN        NaN\n",
      "8          Pygoscelis papua   6.10              NaN        NaN\n",
      "9       Spheniscus demersus   3.20              NaN        NaN\n",
      "10     Spheniscus humboldti   4.75              NaN        NaN\n",
      "11  Spheniscus magellanicus   3.40              NaN        NaN\n"
     ]
    }
   ],
   "source": [
    "print(penguins_df)"
   ]
  },
  {
   "cell_type": "markdown",
   "id": "8c364cda",
   "metadata": {},
   "source": [
    "## 7"
   ]
  },
  {
   "cell_type": "code",
   "execution_count": 15,
   "id": "a5d103fe",
   "metadata": {},
   "outputs": [],
   "source": [
    "import Bio.Seq"
   ]
  },
  {
   "cell_type": "code",
   "execution_count": 16,
   "id": "977979c7",
   "metadata": {},
   "outputs": [],
   "source": [
    "from Bio.Seq import Seq"
   ]
  },
  {
   "cell_type": "code",
   "execution_count": 17,
   "id": "1fb94dca",
   "metadata": {},
   "outputs": [],
   "source": [
    "from Bio.SeqUtils import molecular_weight"
   ]
  },
  {
   "cell_type": "code",
   "execution_count": 20,
   "id": "1419e01c",
   "metadata": {},
   "outputs": [
    {
     "name": "stdout",
     "output_type": "stream",
     "text": [
      "{'Aptenodytes forsteri': Seq('ATGGCCCCAAATCTCCGAAAATCCCATCCCCTCCTAAAAATAATTAATAACTCC...TAA'), 'Aptenodytes patagonicus': Seq('ATGGCCCCAAACCTCCGAAAATCCCATCCTCTCCTAAAAATAATTAATAACTCC...TAA'), 'Eudyptes chrysocome': Seq('ATGGCCCCCAACCTCCGAAAATCCCACCCCCTCCTAAAAACAATCAATAACTCC...TAA'), 'Eudyptes chrysolophus': Seq('ATGGCCCCCAACCTCCGAAAATCCCACCCCCTCCTAAAAACAATCAATAACTCC...TAA'), 'Eudyptes sclateri': Seq('ATGGCCCCCAACCTCCGAAAATCCCACCCCCTCCTAAAAACAATCAATAACTCC...TAA'), 'Eudyptula minor': Seq('ATGGCCCCCAACCTCCGAAAATCTCACCCCCTCCTAAAAATAATCAACAACTCT...TAA'), 'Pygoscelis adeliae': Seq('ATGGCCCCCAACCTCCGAAAATCCCACCCTCTCCTAAAAATAATTAACAACTCC...TAA'), 'Pygoscelis antarctica': Seq('ATGGCCCCCAACCTCCGAAAATCCCACCCTCTCCTAAAAATAATCAACAACTCC...TAG'), 'Pygoscelis papua': Seq('ATGGCCCCCAACCTTCGAAAATCCCACCCTCTCCTAAAAATAATCAACAAATCC...TAG'), 'Spheniscus demersus': Seq('ATGGCCCCCAACCTCCGAAAATCCCACCCTCTCCTAAAAACAATCAACAACTCC...TAA'), 'Spheniscus humboldti': Seq('ATGGCCCCCAACCTCCGAAAATCCCACCCTCTCCTAAAAACAATCAACAACTCC...TAA'), 'Spheniscus magellanicus': Seq('ATGGCCCCCAACCTCCGAAAATCCCACCCTCTCCTAAAAACAATCAACAACTCC...TAA')}\n",
      "['Aptenodytes forsteri', 'Aptenodytes patagonicus', 'Eudyptes chrysocome', 'Eudyptes chrysolophus', 'Eudyptes sclateri', 'Eudyptula minor', 'Pygoscelis adeliae', 'Pygoscelis antarctica', 'Pygoscelis papua', 'Spheniscus demersus', 'Spheniscus humboldti', 'Spheniscus magellanicus']\n",
      "Aptenodytes forsteri MAPNLRKSHPLLKMINNSLIDLPTPSNISAWWNFGSLLGICLTTQILTGLLLAMHYTADTTLAFSSVAHTCRNVQYGWLIRNLHANGASFFFICIYLHIGRGFYYGSYLYKETWNTGIILLLTLMATAFVGYVLPWGQMSFWGATVITNLFSAIPYIGQTLVEWTWGGFSVDNPTLTRFFALHFLLPFMIAGLTLIHLTFLHESGSNNPLGIVANSDKIPFHPYYSTKDILGFALMLLPLTTLALFSPNLLGDPENFTPANPLVTPPHIKPEWYFLFAYAILRSIPNKLGGVLALAASVLILFLIPLLHKSKQRTMAFRPLSQLLFWALVANLIILTWVGSQPVEHPFIIIGQLASLTYFTTLLILFPIAGALENKMLNH* 48.38145231846019\n",
      "Aptenodytes patagonicus MAPNLRKSHPLLKMINNSLIDLPTPSNISAWWNFGSLLGICLTTQILTGLLLAMHYTADTTLAFSSVAHTCRNVQYGWLIRNLHANGASFFFICIYLHIGRGFYYGSYLYKETWNTGIILLLTLMATAFVGYVLPWGQMSFWGATVITNLFSAIPYIGQTLVEWAWGGFSVDNPTLTRFFALHFLLPFMIAGLTLIHLTFLHESGSNNPLGIVANSDKIPFHPYYSTKDTLGFALMLLPLTTLALFSPNLLGDPENFTPANPLVTPPHIKPEWYFLFAYAILRSIPNKLGGVLALAASVLILFLIPLLHKSKQRTMTFRPLSQLLFWTLVANLTILTWIGSQPVEHPFIIIGQLASLTYFTILLILFPLIGTLENKMLNH* 49.69378827646544\n",
      "Eudyptes chrysocome MAPNLRKSHPLLKTINNSLIDLPTPSNISAWWNFGSLLGICLATQILTGLLLAAHYTADTTLAFSSVAHTCRNVQYGWLIRNLHANGASFFFICIYLHIGRGLYYGSYLYKETWNTGIILLLTLMATAFVGYVLPWGQMSFWGATVITNLFSAIPYIGQTLVEWAWGGFSVDNPTLTRFFTLHFLLPFMIAGLTLIHLTFLHESGSNNPLGIVANSDKIPFHPYYSTKDILGFILLLLPLTTLALFSPNLLGDPENFTPANPLVTPPHIKPEWYFLFAYAILRSIPNKLGGVLALAASVLILFLIPLLHKSKQRTMTFRPLSQLLFWTLVANLTILTWIGSQPVEHPFIIIGQLASLTYFTILLILFPLIGTLENKMLNH* 51.181102362204726\n",
      "Eudyptes chrysolophus MAPNLRKSHPLLKTINNSLIDLPTPSNISAWWNFGSLLGICLATQILTGLLLAAHYTADTTLAFSSVAHTCRNVQYGWLIRNLHANGASFFFICIYLHIGRGLYYGSYLYKETWNTGIILLLTLMATAFVGYVLPWGQMSFWGATVITNLFSAIPYIGQTLVEWAWGGFSVDNPTLTRFFTLHFLLPFMIAGLTLIHLTFLHESGSNNPLGIVANSDKIPFHPYYSTKDILGFILLLLPLTALALFSPNLLGDPENFTPANPLVTPPHIKPEWYFLFAYAILRSIPNKLGGVLALAASVLILFLIPLLHKSKQRTMTFRPLSQLLFWTLVANLTILTWIGSQPVEHPFIIIGQLASLTYFTILLILFPLIGTLENKMLNH* 50.91863517060368\n",
      "Eudyptes sclateri MAPNLRKSHPLLKTINNSLIDLPTPSNISAWWNFGSLLGICLATQILTGLLLAAHYTADTTLAFSSVAHTCRNVQYGWLIRNLHANGASFFFICIYLHIGRGLYYGSYLYKETWNTGIILLLTLMATAFVGYVLPWGQMSFWGATVITNLFSAIPYIGQTLVEWAWGGFSVDNPTLTRFFTLHFLLPFMIAGLTLIHLTFLHESGSNNPLGIVANSDKIPFHPYYSTKDILGFILLLLPLTTLALFSPNLLGDPENFTPANPLVTPPHIKPEWYFLFAYAILRSIPNKLGGVLALAASVLILFLIPLLHKSKQRTMTFRPLSQLLFWTLVANLTILTWIGSQPVEHPFIIIGQLASLTYFTILLILFPLIGTLENKMLNH* 50.83114610673666\n",
      "Eudyptula minor MAPNLRKSHPLLKMINNSLIDLPTPSNISTWWNFGSLLGICLITQILTGLLLAAHYTADTTLAFSSIAHTCRNVQYGWLIRNLHANGASFFFICIYLHIGRGLYYGSYLYKETWNTGIILLITLMATAFVGYVLPWGQMSFWGATVITNLFSAIPYIGQTLVEWAWGGFSVDNPTLTRFFALHFLLPFMITGLTLIHLTFLHESGSNNPLGIVANSDKIPFHPYYSTKDILGFILLLLPLTTLALFSPNLLGDPENFTPANPLVTPPHIKPEWYFLFAYAILRSIPNKLGGVLALAASVLILFLIPLLHKSKQRSMAFRPLSQLLFWTLVANLTILTWVGNQPVEHPFIIIGQLASLTYFTILLILFPLAGTLENKMLSH* 49.256342957130364\n",
      "Pygoscelis adeliae MAPNLRKSHPLLKMINNSLIDLPTPSNISAWWNFGSLLGICLTTQILTGLLLAMHYTADTTLAFSSIAHTCRDVQYGWLIRNLHANGASFFFICIYLHIGRGLYYGSYLYKETWNTGIILLLTLMATAFVGYVLPWGQMSFWGATVITNLFSAIPYIGQTLVEWAWGGFSVDNPTLTRFFALHFLLPFVIMGLTLIHLTFLHESGSNNPLGIVANSDKIPFHPYYSTKDILGFAFMLLPLTTLALFSPNLLGDPENFTPANPLVTPPHIKPEWYFLFAYAILRSIPNKLGGVLALAASVLILFLIPLLHKSKQRTMAFRPLSQLLFWALVANLAILTWVGSQPVEHPFIIIGQLASLTYFTILLILFPSIGALENKMLNH* 49.08136482939632\n",
      "Pygoscelis antarctica MAPNLRKSHPLLKMINNSLIDLPTPSNISAWWNFGSLLGICLTTQILTGLLLAMHYTADTTLAFSSIAHTCRDVQYGWLIRNMHANGASLLFICIYLHIGRGVYDGSYLHKETWNTGVILLLTLMATAFVGYVLPWGQMSFWGATVITNLFSAIPYIGQTIVEWAWGGFSVDNPTLTRFFALHFLLPFMITGLTLIHLTFLHESGSNNPLGIVANSDKIPFHPYYSTKDILGFTLMLLPLTTLALFSPNLLGDPENFTPANPLVTPPHIKPEWYFLFAYAILRSIPNKLGGVLALAASVLVLFLSPLLHKSKQRTMAFRPLSQLLFWTLVANLLILTWIGSQPVEHPFIIIGQLASTTYFIILLILFPITSALENKMLNF* 47.76902887139108\n",
      "Pygoscelis papua MAPNLRKSHPLLKMINKSLIDLPTPPNISAWWNFGSLLGICLITQILTGLLLAMHYTADTTLAFSSIAHTCRNVQYGWLIRNLHANGASFFFICIYFHIGRGLYYGSYLYKETWNTGIILLLTLMATAFVGYVLPWGQMSFWGATVITNLFSAIPYVGQTLVEWAWGGFSVDNPTLTRFFALHFLLPFMITGLTLIHLTFLHESGSNNPLGIVANSDKIPFHPYYSTKDILGFALMLLPLTTLALFSPNLLGDPENFTPANPLVTPPHIKPEWYFLFAYAILRSIPNKLGGVLALAASVLILFLSPLLHKSKQRTMAFRPLSQLLFWTLVANLLILTWIGSQPVEHPFIIIGQLASTTYFIILLILFPITSALENKMLNF* 47.15660542432196\n",
      "Spheniscus demersus MAPNLRKSHPLLKTINNSLIDLPTPSNISAWWNFGSLLGICLATQILTGLLLAAHYTADTTLAFSSVAHMCRNVQYGWLIRNLHANGASFFFICIYLHIGRGLYYGSYLYKETWNTGIILLLTLMATAFVGYVLPWGQMSFWGATVITNLFSAIPYIGQTLVEWAWGGFSVDNPTLTRFFALHFLLPFMITGLTLIHLTFLHESGSNNPLGIVANSDKIPFHPYYSTKDILGFMLLLLPLTTLALFSPNLLGDPENFTPANPLVTPPHIKPEWYFLFAYAILRSIPNKLGGVLALAASVLILFLMPLLHKSKQRTMAFRPLSQLLFWTLVANLIILTWIGSQPVEHPFIAIGQLASFTYFTTLLILFPLAGALENKMLNH* 48.29396325459317\n",
      "Spheniscus humboldti MAPNLRKSHPLLKTINNSLIDLPTPSNISAWWNFGSLLSICLATQILTGLLLAAHYTADTTLAFSSVAHMCRNVQYGWLIRNLHANGASFFFICIYLHIGRGLYYGSYLHKETWNTGIILLLTLMATAFVGYVLPWGQMSFWGATVITNLFSAIPYIGQTLVEWAWGGFSVDNPTLTRFFALHFLLPFMITGLALIHLTFLHESGSNNPLGIVANSDKIPFHPYYSTKDILGFMLLLLPLTTLALFSPNLLGDPENFTPANPLVTPPHIKPEWYFLFAYAILRSIPNKLGGVLALAASVLILFLMPLLHKSKQRTMAFRPLSQLLFWTLVANLIILTWVGSQPVEHPFIIIGQLASLTYFTTLLILFPLAGALENKMLNH* 49.256342957130364\n",
      "Spheniscus magellanicus MAPNLRKSHPLLKTINNSLIDLPTPSNISAWWNFGSLLGICLATQILTGLLLAAHYTADTTLAFSSVAHMCRNVQYGWLIRNLHANGASFFFICIYLHIGRGLYYGSYLYKETWNTGIILLLTLMATAFVGYVLPWGQMSFWGATVITNLFSAIPYIGQTLVEWAWGGFSVDNPTLTRFFALHFLLPFMITGLTLIHLTFLHESGSNNPLGIVANSDKIPFHPYYSTKDILGFMLLLLPLTTLALFSPNLLGDPENFTPANPLVTPPHIKPEWYFLFAYAILRSIPNKLGGVLALAASVLILFLMPLLHKSKQRTMAFRPLSQLLFWTLVANLIILTWVGSQPVEHPFIIIGQLASFTYFTTLLILFPLAGALENKMLNH* 48.20647419072616\n",
      "                    species   mass molecular weight GC content\n",
      "0      Aptenodytes forsteri  28.00      347879.1421  48.381452\n",
      "1   Aptenodytes patagonicus  13.40      347849.0492  49.693788\n",
      "2       Eudyptes chrysocome   2.80      347450.7141  51.181102\n",
      "3     Eudyptes chrysolophus   4.50      347557.7699  50.918635\n",
      "4         Eudyptes sclateri   4.25      347386.7165  50.831146\n",
      "5           Eudyptula minor   1.60      347532.8785  49.256343\n",
      "6        Pygoscelis adeliae   4.60      347909.0625  49.081365\n",
      "7     Pygoscelis antarctica   4.10      348229.4089  47.769029\n",
      "8          Pygoscelis papua   6.10      347956.2452  47.156605\n",
      "9       Spheniscus demersus   3.20      347712.0596  48.293963\n",
      "10     Spheniscus humboldti   4.75      347568.9317  49.256343\n",
      "11  Spheniscus magellanicus   3.40      347718.0577  48.206474\n"
     ]
    }
   ],
   "source": [
    "## 7 ##\n",
    "## Write a for-loop that translates each sequence and also gets molecular weight and computes the GC content\n",
    "## of each translated sequence and adds those data to DataFrame\n",
    "# for key, value in cytb_seqs.items():\n",
    "#     aa_seq = nuc2aa_translate_function(value) # whichever function you prefer of #2 or #3\n",
    "#     get the molecular weight of aa_seq\n",
    "#     get the GC content of the DNA sequence\n",
    "#     fill in empty cells in DF that you created above\n",
    "print(cytb_seqs)\n",
    "print(species_list)\n",
    "\n",
    "\n",
    "\n",
    "for key, value in cytb_seqs.items():\n",
    "    aa_seq = translate_function2(value)\n",
    "    gc_pc = gc_percent(value)\n",
    "    mw = Bio.SeqUtils.molecular_weight(value, seq_type='DNA', double_stranded=False, circular=False, monoisotopic=False)\n",
    "    if key in penguins_df['species'].values:\n",
    "        penguins_df.loc[penguins_df['species'] == key, 'GC content'] = gc_pc\n",
    "    if key in penguins_df['species'].values:\n",
    "        penguins_df.loc[penguins_df['species'] == key, 'molecular weight'] = mw\n",
    "        \n",
    "#    for species in penguins_df:\n",
    "#        print(record)\n",
    "#        if species == key:\n",
    "#            penguins_df[''] = gc_pc\n",
    "    print(key, aa_seq, gc_pc)\n",
    "print(penguins_df)"
   ]
  },
  {
   "cell_type": "markdown",
   "id": "68e5d5c5",
   "metadata": {},
   "source": [
    "## 8"
   ]
  },
  {
   "cell_type": "code",
   "execution_count": 21,
   "id": "2891f1da",
   "metadata": {},
   "outputs": [
    {
     "data": {
      "image/png": "[encoded data removed]",
      "text/plain": [
       "<Figure size 432x288 with 1 Axes>"
      ]
     },
     "metadata": {
      "needs_background": "light"
     },
     "output_type": "display_data"
    }
   ],
   "source": [
    "## 8 ##\n",
    "## Plot a bar-chart of the mass with the x-axes labeled with species names.\n",
    "## *Q1* What is the smallest penguin species?  Eudyptula minor\n",
    "## *Q2* What is the geographical range of this species? 26.4\n",
    "\n",
    "\n",
    "import matplotlib.pyplot as plt\n",
    "\n",
    "plt.bar(penguins_df['species'], penguins_df['mass'], color='skyblue')\n",
    "plt.xlabel('species')\n",
    "plt.ylabel('mass')\n",
    "plt.title('Mass of Each Species')\n",
    "plt.show()"
   ]
  },
  {
   "cell_type": "markdown",
   "id": "09dfce71",
   "metadata": {},
   "source": [
    "## 9"
   ]
  },
  {
   "cell_type": "code",
   "execution_count": 22,
   "id": "94cb63a5",
   "metadata": {},
   "outputs": [],
   "source": [
    "import seaborn as sns"
   ]
  },
  {
   "cell_type": "code",
   "execution_count": 24,
   "id": "3796bca6",
   "metadata": {},
   "outputs": [
    {
     "name": "stderr",
     "output_type": "stream",
     "text": [
      "/opt/rit/el9/20230413/app/linux-rhel9-x86_64_v3/gcc-11.2.1/py-seaborn-0.12.2-omixkokge2i67u7apvehqk2fqduysrz2/lib/python3.10/site-packages/seaborn/axisgrid.py:118: UserWarning: The figure layout has changed to tight\n",
      "  self._figure.tight_layout(*args, **kwargs)\n"
     ]
    },
    {
     "data": {
      "text/plain": [
       "<seaborn.axisgrid.FacetGrid at 0x14a38317d210>"
      ]
     },
     "execution_count": 24,
     "metadata": {},
     "output_type": "execute_result"
    },
    {
     "data": {
      "image/png": "[encoded data removed]",
      "text/plain": [
       "<Figure size 360x360 with 1 Axes>"
      ]
     },
     "metadata": {
      "needs_background": "light"
     },
     "output_type": "display_data"
    }
   ],
   "source": [
    "## 9 ##\n",
    "## Plot a visualization of the molecular weight (y-axis) as a function of GC-content (x-axis).\n",
    "\n",
    "\n",
    "sns.lmplot(x=\"molecular weight\", y=\"GC content\", data=penguins_df, fit_reg=False)"
   ]
  },
  {
   "cell_type": "markdown",
   "id": "4a24484a",
   "metadata": {},
   "source": [
    "## 10"
   ]
  },
  {
   "cell_type": "code",
   "execution_count": 27,
   "id": "dcd9d931",
   "metadata": {},
   "outputs": [],
   "source": [
    " ## 10 ##\n",
    "## Save the new DataFrame to a file called \"penguins_mass_cytb.csv\"\n",
    "penguins_df.to_csv('penguins_mass_cytb.csv')"
   ]
  },
  {
   "cell_type": "markdown",
   "id": "36510706",
   "metadata": {},
   "source": [
    "## 11"
   ]
  },
  {
   "cell_type": "code",
   "execution_count": null,
   "id": "2d138e0b",
   "metadata": {},
   "outputs": [],
   "source": [
    "## 11 - BONUS ##\n",
    "## What else can we do with this dataset in Python? \n",
    "## Add functions or anything that might be interesting and fun. (optional)"
   ]
  },
  {
   "cell_type": "code",
   "execution_count": null,
   "id": "b46a7482",
   "metadata": {},
   "outputs": [],
   "source": []
  }
 ],
 "metadata": {
  "kernelspec": {
   "display_name": "Python 3 (ipykernel)",
   "language": "python",
   "name": "python3"
  },
  "language_info": {
   "codemirror_mode": {
    "name": "ipython",
    "version": 3
   },
   "file_extension": ".py",
   "mimetype": "text/x-python",
   "name": "python",
   "nbconvert_exporter": "python",
   "pygments_lexer": "ipython3",
   "version": "3.10.2"
  }
 },
 "nbformat": 4,
 "nbformat_minor": 5
}
